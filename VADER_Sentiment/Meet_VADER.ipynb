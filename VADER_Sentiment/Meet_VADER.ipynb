{
  "nbformat": 4,
  "nbformat_minor": 0,
  "metadata": {
    "colab": {
      "name": "Meet_VADER.ipynb",
      "version": "0.3.2",
      "provenance": [],
      "include_colab_link": true
    },
    "kernelspec": {
      "name": "python3",
      "display_name": "Python 3"
    }
  },
  "cells": [
    {
      "cell_type": "markdown",
      "metadata": {
        "id": "view-in-github",
        "colab_type": "text"
      },
      "source": [
        "[View in Colaboratory](https://colab.research.google.com/github/naramamoorthi/Machine-Learning/blob/master/VADER_Sentiment/Meet_VADER.ipynb)"
      ]
    },
    {
      "metadata": {
        "id": "Q84gzBLaFoZY",
        "colab_type": "code",
        "colab": {
          "base_uri": "https://localhost:8080/",
          "height": 68
        },
        "outputId": "c7011b03-357b-4a0e-8f50-72669cabc99b"
      },
      "cell_type": "code",
      "source": [
        "!pip install vadersentiment\n",
        "\n",
        "from vaderSentiment.vaderSentiment import SentimentIntensityAnalyzer\n",
        "analyser = SentimentIntensityAnalyzer()\n",
        "\n",
        "def sentiment_analysis(sentence):\n",
        "    sentiment_score = analyser.polarity_scores(sentence)\n",
        "    print(\"{:-<40} {}\".format(sentence, str(sentiment_score)))\n",
        "\n",
        "text=input(\"Enter some text you want to analyze: \")\n",
        "sentiment_analysis(text)\n"
      ],
      "execution_count": 3,
      "outputs": [
        {
          "output_type": "stream",
          "text": [
            "Requirement already satisfied: vadersentiment in /usr/local/lib/python3.6/dist-packages (3.2.1)\n",
            "Enter some text you want to analyze: this 7up is delicious\n",
            "this 7up is delicious------------------- {'neg': 0.0, 'neu': 0.448, 'pos': 0.552, 'compound': 0.5719}\n"
          ],
          "name": "stdout"
        }
      ]
    },
    {
      "metadata": {
        "id": "0I16aOc_FvPi",
        "colab_type": "code",
        "colab": {}
      },
      "cell_type": "code",
      "source": [
        ""
      ],
      "execution_count": 0,
      "outputs": []
    }
  ]
}